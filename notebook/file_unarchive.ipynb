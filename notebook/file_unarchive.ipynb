{
 "cells": [
  {
   "cell_type": "markdown",
   "id": "c32f35e8-4184-4973-ba66-25c70bbd3885",
   "metadata": {},
   "source": [
    "## untar .tar, .tar.gz, .tgz files\n",
    "Tar \n",
    "- \"tape archive\", GNU software<br>\n",
    "- consolidating and compressing data.<br>\n",
    "- The tar command is used in Unix and Linux systems to `bundle multiple files and directories into a single archive file`, simplifying the management, storage, and transfer of large sets of files.<br>\n",
    "- Archives created with tar are typically saved with a `.tar` extension and can also be compressed to save space, resulting in files like `.tar.gz` or `.tar.bz2.`<br>\n",
    "\n",
    "\n",
    "`-x` Extract files from an archive. <br>\n",
    "`-z` Use gzip compression to extract the archive.<br>\n",
    "`-v` Be verbose; display the progress and file list.<br>\n",
    "`-f` Specify the input archive file (e.g., .tgz or .tar.gz).<br>\n",
    "`-t` List the contents of an archive without extracting.<br>\n",
    "`-r` Append files to an existing archive.<br>\n",
    "`-C` folder<br>\n",
    "\n"
   ]
  },
  {
   "cell_type": "code",
   "execution_count": 10,
   "id": "99a0df1b-1dcc-40ab-93c9-cd90bdbecfee",
   "metadata": {
    "scrolled": true
   },
   "outputs": [
    {
     "name": "stdout",
     "output_type": "stream",
     "text": [
      "\n",
      "gzip: stdin: not in gzip format\n",
      "tar: Child returned status 1\n",
      "tar: Error is not recoverable: exiting now\n"
     ]
    }
   ],
   "source": [
    "!tar -xvf ./data/*.tar -C ./data/"
   ]
  },
  {
   "cell_type": "markdown",
   "id": "9d547e12-259d-4b3a-81ea-f4ea90bec0c4",
   "metadata": {},
   "source": [
    "## unzip .gz file\n",
    "- collection of archive files compressed together using a Gzip compression program.\n",
    "- `gunzip`"
   ]
  },
  {
   "cell_type": "code",
   "execution_count": 14,
   "id": "f4351aed-d076-40cd-b5ed-9477e8f3c11a",
   "metadata": {},
   "outputs": [],
   "source": [
    "!gunzip ./data/*.gz"
   ]
  },
  {
   "cell_type": "code",
   "execution_count": 15,
   "id": "ee8e4a52-2222-4f7b-b6c5-f1d670e676d8",
   "metadata": {},
   "outputs": [
    {
     "name": "stdout",
     "output_type": "stream",
     "text": [
      "000000_0  000017_0  000034_0  000051_0\t000068_0  000085_0\n",
      "000001_0  000018_0  000035_0  000052_0\t000069_0  000086_0\n",
      "000002_0  000019_0  000036_0  000053_0\t000070_0  000087_0\n",
      "000003_0  000020_0  000037_0  000054_0\t000071_0  000088_0\n",
      "000004_0  000021_0  000038_0  000055_0\t000072_0  000089_0\n",
      "000005_0  000022_0  000039_0  000056_0\t000073_0  000090_0\n",
      "000006_0  000023_0  000040_0  000057_0\t000074_0  000091_0\n",
      "000007_0  000024_0  000041_0  000058_0\t000075_0  000092_0\n",
      "000008_0  000025_0  000042_0  000059_0\t000076_0  000093_0\n",
      "000009_0  000026_0  000043_0  000060_0\t000077_0  000094_0\n",
      "000010_0  000027_0  000044_0  000061_0\t000078_0  000095_0\n",
      "000011_0  000028_0  000045_0  000062_0\t000079_0  000096_0\n",
      "000012_0  000029_0  000046_0  000063_0\t000080_0  000097_0\n",
      "000013_0  000030_0  000047_0  000064_0\t000081_0  000098_0\n",
      "000014_0  000031_0  000048_0  000065_0\t000082_0  000099_0\n",
      "000015_0  000032_0  000049_0  000066_0\t000083_0  AppTracking_V2.20240901.tar\n",
      "000016_0  000033_0  000050_0  000067_0\t000084_0\n"
     ]
    }
   ],
   "source": [
    "!ls"
   ]
  },
  {
   "cell_type": "code",
   "execution_count": null,
   "id": "f813cc45-ac5d-42c9-b6d5-49e2575e6735",
   "metadata": {},
   "outputs": [],
   "source": []
  }
 ],
 "metadata": {
  "kernelspec": {
   "display_name": "Python 3 (ipykernel)",
   "language": "python",
   "name": "python3"
  },
  "language_info": {
   "codemirror_mode": {
    "name": "ipython",
    "version": 3
   },
   "file_extension": ".py",
   "mimetype": "text/x-python",
   "name": "python",
   "nbconvert_exporter": "python",
   "pygments_lexer": "ipython3",
   "version": "3.11.6"
  }
 },
 "nbformat": 4,
 "nbformat_minor": 5
}
