{
 "cells": [
  {
   "cell_type": "markdown",
   "id": "96f76881-cc6c-47e6-abf9-58d2c829d8ae",
   "metadata": {},
   "source": [
    "## get file basic information\n",
    "\n",
    "one big tar file -> multiple gz files -> multiple txt files -> then what?\n",
    "- spark에서 여러 파일을 하나의 데이터프레임으로 읽는다\n",
    "- hdfs가 대용량의 하나의 파일 분산 write하는거에 적절하긴한데.. 그럼 hdfs에 하나의 파일로 적재해놓고 읽는 과정이 한번 더 수반죄는거니까 굳이?\n",
    "- 근데 또 spark에서 자주 읽는다고 하면 여러개로 쪼개져있는데 iterable하게 읽는것보다 hdfs에 최초 한번만 단일 파일로 만들어놓고 이거 spark에서 읽는게 맞는것같기도하고...]"
   ]
  },
  {
   "cell_type": "code",
   "execution_count": 35,
   "id": "7617a176-2261-4f5c-8222-85ebc6cc6544",
   "metadata": {},
   "outputs": [
    {
     "data": {
      "text/plain": [
       "['000004_0', '000000_0', '000003_0', '000002_0', '000005_0', '000001_0']"
      ]
     },
     "execution_count": 35,
     "metadata": {},
     "output_type": "execute_result"
    }
   ],
   "source": [
    "os.listdir('./data')"
   ]
  },
  {
   "cell_type": "code",
   "execution_count": 37,
   "id": "6bb92b66-865c-4600-916e-65771ca0404f",
   "metadata": {
    "scrolled": true
   },
   "outputs": [
    {
     "name": "stdout",
     "output_type": "stream",
     "text": [
      "000004_0\n",
      "file :  940095952 Bytes\n",
      "file :  918062.453125 KB\n",
      "file :  896.55 MB\n",
      "file :  0.90 GB\n",
      "000000_0\n",
      "file :  939487083 Bytes\n",
      "file :  917467.8544921875 KB\n",
      "file :  895.96 MB\n",
      "file :  0.90 GB\n",
      "000003_0\n",
      "file :  938279749 Bytes\n",
      "file :  916288.8173828125 KB\n",
      "file :  894.81 MB\n",
      "file :  0.89 GB\n",
      "000002_0\n",
      "file :  935025145 Bytes\n",
      "file :  913110.4931640625 KB\n",
      "file :  891.71 MB\n",
      "file :  0.89 GB\n",
      "000005_0\n",
      "file :  935502127 Bytes\n",
      "file :  913576.2958984375 KB\n",
      "file :  892.16 MB\n",
      "file :  0.89 GB\n",
      "000001_0\n",
      "file :  937993267 Bytes\n",
      "file :  916009.0498046875 KB\n",
      "file :  894.54 MB\n",
      "file :  0.89 GB\n"
     ]
    }
   ],
   "source": [
    "import os\n",
    "\n",
    "path = './data'\n",
    "for file in os.listdir(path):\n",
    "  try:\n",
    "    n = os.path.getsize(os.path.join(path, file))\n",
    "    print(file)\n",
    "    print('file : ', n, \"Bytes\")                           # 바이트 단위로 구하기\n",
    "    print('file : ', n / 1024, \"KB\")                       # 킬로바이트 단위로\n",
    "    print('file : ', \"%.2f MB\" % (n / (1024.0 * 1024.0)))  # 메가바이트 단위로\n",
    "    print('file : ', \"%.2f GB\" % (n / (1024.0 * 1024.0 * 1000.0)))  # 기가바이트 단위로\n",
    "  except os.error:\n",
    "    print (\"파일이 없거나 에러입니다.\")"
   ]
  },
  {
   "cell_type": "code",
   "execution_count": null,
   "id": "cab18f03-75be-4b4d-a8fd-7e606531989a",
   "metadata": {},
   "outputs": [],
   "source": [
    "#일단 제발 읽기나 해 하나라도"
   ]
  },
  {
   "cell_type": "code",
   "execution_count": 1,
   "id": "2a23fe09-a489-4d85-b252-5482f11c0a70",
   "metadata": {},
   "outputs": [
    {
     "data": {
      "text/html": [
       "\n",
       "            <div>\n",
       "                <p><b>SparkSession - in-memory</b></p>\n",
       "                \n",
       "        <div>\n",
       "            <p><b>SparkContext</b></p>\n",
       "\n",
       "            <p><a href=\"http://8d12a27763b4:4041\">Spark UI</a></p>\n",
       "\n",
       "            <dl>\n",
       "              <dt>Version</dt>\n",
       "                <dd><code>v3.5.0</code></dd>\n",
       "              <dt>Master</dt>\n",
       "                <dd><code>local[*]</code></dd>\n",
       "              <dt>AppName</dt>\n",
       "                <dd><code>spark-local-environment-test</code></dd>\n",
       "            </dl>\n",
       "        </div>\n",
       "        \n",
       "            </div>\n",
       "        "
      ],
      "text/plain": [
       "<pyspark.sql.session.SparkSession at 0xffffb03f1210>"
      ]
     },
     "execution_count": 1,
     "metadata": {},
     "output_type": "execute_result"
    }
   ],
   "source": [
    "from pyspark.sql import SparkSession\n",
    "import pyspark.sql.functions as F\n",
    "\n",
    "spark = SparkSession.builder\\\n",
    ".appName(\"spark-local-environment-test\")\\\n",
    ".config('spark.jars', '$SPARK_HOME/jars/hadoop-aws-3.2.0.jar')\\\n",
    ".config('spark.jars', '$SPARK_HOME/jars/aws-java-sdk-bundle-1.11.375.jar')\\\n",
    ".getOrCreate()\n",
    "\n",
    "spark"
   ]
  },
  {
   "cell_type": "code",
   "execution_count": 5,
   "id": "c4c00a2c-51ab-4134-9af2-1a632e4e8b28",
   "metadata": {},
   "outputs": [
    {
     "name": "stdout",
     "output_type": "stream",
     "text": [
      "000000_0  000001_0  000002_0  000003_0\t000004_0  000005_0\n"
     ]
    }
   ],
   "source": [
    "!ls data"
   ]
  },
  {
   "cell_type": "code",
   "execution_count": 6,
   "id": "7f599c9a-8453-4bdd-a659-b79f3506bdd0",
   "metadata": {},
   "outputs": [],
   "source": [
    "data_path = './data/000000_0'"
   ]
  },
  {
   "cell_type": "markdown",
   "id": "ff1fe2f5-c1e6-4b1d-8e34-d00f11fda9bf",
   "metadata": {},
   "source": [
    "`adid`tab{`pacakge_name`:`install_market`:`dt1`:`dt2`:`dt3`:`sec_d`:`sec_month`,}*tab`carrier`tab`device_model`tab`device_os`tab`gender`tab`age`"
   ]
  },
  {
   "cell_type": "markdown",
   "id": "c333728c-f060-4c9d-8916-554e38e79357",
   "metadata": {},
   "source": [
    "### tab 으로 구분된 애들 먼저 제일 상위 덩어리로 읽기"
   ]
  },
  {
   "cell_type": "code",
   "execution_count": 7,
   "id": "1f647b3e-f9bd-437e-b8c5-67a92ce6738b",
   "metadata": {},
   "outputs": [],
   "source": [
    "from pyspark.sql.types import StructType, StructField, StringType\n",
    "\n",
    "schema_with_tab = StructType(\n",
    "    [\n",
    "        StructField(\"adid\", StringType(), True),\n",
    "        StructField(\"adid_details\", StringType(), True),\n",
    "        StructField(\"carrier\", StringType(), True),\n",
    "        StructField(\"device_model\", StringType(), True),\n",
    "        StructField(\"device_os\", StringType(), True),\n",
    "        StructField(\"gender\", StringType(), True),\n",
    "        StructField(\"age\", StringType(), True),\n",
    "    ]\n",
    ")\n",
    "\n",
    "df = (\n",
    "    spark.read\n",
    "        .option(\"inferSchema\", \"true\")\n",
    "        .option(\"delimiter\", \"\\t\")\n",
    "        .option(\"multiLine\", \"true\")\n",
    "        .option(\"header\", \"false\")\n",
    "        .option(\"encoding\", \"utf-8\")\n",
    "        .csv(data_path, schema=schema_with_tab)\n",
    ")"
   ]
  },
  {
   "cell_type": "code",
   "execution_count": 21,
   "id": "44da83d8-611a-4279-8e15-51232f8c652e",
   "metadata": {
    "scrolled": true
   },
   "outputs": [
    {
     "data": {
      "text/html": [
       "<table border='1'>\n",
       "<tr><th>adid</th><th>adid_details</th><th>carrier</th><th>device_model</th><th>device_os</th><th>gender</th><th>age</th></tr>\n",
       "<tr><td>0000237c-84d5-42c...</td><td>com.google.androi...</td><td>SKT</td><td>SM-G986N</td><td>13.0</td><td>Z</td><td>ZZ</td></tr>\n",
       "<tr><td>00002a34-4418-430...</td><td>com.sec.android.e...</td><td>SKT</td><td>SM-N981N</td><td>13.0</td><td>Z</td><td>ZZ</td></tr>\n",
       "<tr><td>00018a31-b0f1-4ec...</td><td>com.kt.aljjapackp...</td><td>KT</td><td>SM-G991N</td><td>14.0</td><td>Z</td><td>40</td></tr>\n",
       "<tr><td>0001df59-3d34-415...</td><td>com.creasmall:G:2...</td><td>SKT</td><td>SM-S906N</td><td>14.0</td><td>Z</td><td>ZZ</td></tr>\n",
       "<tr><td>0002ca60-d565-442...</td><td>mok.android:G:202...</td><td>SKT</td><td>SM-S911N</td><td>14.0</td><td>Z</td><td>ZZ</td></tr>\n",
       "<tr><td>00032f56-a035-476...</td><td>com.google.androi...</td><td>ZZZ</td><td>SM-G930S</td><td>8.0</td><td>Z</td><td>ZZ</td></tr>\n",
       "<tr><td>00034f01-be1c-4da...</td><td>com.google.androi...</td><td>KT</td><td>SM-M446K</td><td>14.0</td><td>Z</td><td>ZZ</td></tr>\n",
       "<tr><td>0003b234-16b6-40d...</td><td>com.android.chrom...</td><td>KT</td><td>SM-G960N</td><td>10.0</td><td>Z</td><td>ZZ</td></tr>\n",
       "<tr><td>00040286-9aaf-417...</td><td>com.ahnlab.v3mobi...</td><td>ZZZ</td><td>LM-G900N</td><td>11.0</td><td>Z</td><td>ZZ</td></tr>\n",
       "<tr><td>0004489b-a47d-455...</td><td>com.sktelecom.vco...</td><td>SKT</td><td>SM-S906N</td><td>14.0</td><td>Z</td><td>30</td></tr>\n",
       "<tr><td>0004adff-de41-453...</td><td>com.samsung.andro...</td><td>KT</td><td>SM-S908N</td><td>14.0</td><td>M</td><td>50</td></tr>\n",
       "<tr><td>00055d54-0c11-47c...</td><td>com.teacapps.barc...</td><td>SKT</td><td>SM-G991N</td><td>14.0</td><td>F</td><td>ZZ</td></tr>\n",
       "<tr><td>00068c57-7025-487...</td><td>com.ibk.android.i...</td><td>SKT</td><td>SM-S908N</td><td>14.0</td><td>M</td><td>ZZ</td></tr>\n",
       "<tr><td>0006a4df-5d20-47c...</td><td>com.nflystudio.In...</td><td>SKT</td><td>SM-A245N</td><td>14.0</td><td>Z</td><td>ZZ</td></tr>\n",
       "<tr><td>0006c556-d882-4f7...</td><td>com.frograms.wpla...</td><td>U+</td><td>LM-V500N</td><td>12.0</td><td>Z</td><td>ZZ</td></tr>\n",
       "<tr><td>0007354b-012f-4f9...</td><td>com.instagram.and...</td><td>U+</td><td>LM-V350N</td><td>10.0</td><td>Z</td><td>40</td></tr>\n",
       "<tr><td>00075c37-15a5-45f...</td><td>com.bitget.exchan...</td><td>ZZZ</td><td>SM-G991N</td><td>14.0</td><td>Z</td><td>ZZ</td></tr>\n",
       "<tr><td>0007ad3a-13b8-44c...</td><td>skplanet.musicmat...</td><td>SKT</td><td>SM-S928N</td><td>14.0</td><td>Z</td><td>ZZ</td></tr>\n",
       "<tr><td>00080082-26c8-4ca...</td><td>com.nhn.android.s...</td><td>U+</td><td>SM-G991N</td><td>14.0</td><td>Z</td><td>ZZ</td></tr>\n",
       "<tr><td>000805cb-2ad3-404...</td><td>kr.or.knfa.nfcs.m...</td><td>KT</td><td>SM-A315N</td><td>10.0</td><td>Z</td><td>ZZ</td></tr>\n",
       "</table>\n",
       "only showing top 20 rows\n"
      ],
      "text/plain": [
       "+--------------------+--------------------+-------+------------+---------+------+---+\n",
       "|                adid|        adid_details|carrier|device_model|device_os|gender|age|\n",
       "+--------------------+--------------------+-------+------------+---------+------+---+\n",
       "|0000237c-84d5-42c...|com.google.androi...|    SKT|    SM-G986N|     13.0|     Z| ZZ|\n",
       "|00002a34-4418-430...|com.sec.android.e...|    SKT|    SM-N981N|     13.0|     Z| ZZ|\n",
       "|00018a31-b0f1-4ec...|com.kt.aljjapackp...|     KT|    SM-G991N|     14.0|     Z| 40|\n",
       "|0001df59-3d34-415...|com.creasmall:G:2...|    SKT|    SM-S906N|     14.0|     Z| ZZ|\n",
       "|0002ca60-d565-442...|mok.android:G:202...|    SKT|    SM-S911N|     14.0|     Z| ZZ|\n",
       "|00032f56-a035-476...|com.google.androi...|    ZZZ|    SM-G930S|      8.0|     Z| ZZ|\n",
       "|00034f01-be1c-4da...|com.google.androi...|     KT|    SM-M446K|     14.0|     Z| ZZ|\n",
       "|0003b234-16b6-40d...|com.android.chrom...|     KT|    SM-G960N|     10.0|     Z| ZZ|\n",
       "|00040286-9aaf-417...|com.ahnlab.v3mobi...|    ZZZ|    LM-G900N|     11.0|     Z| ZZ|\n",
       "|0004489b-a47d-455...|com.sktelecom.vco...|    SKT|    SM-S906N|     14.0|     Z| 30|\n",
       "|0004adff-de41-453...|com.samsung.andro...|     KT|    SM-S908N|     14.0|     M| 50|\n",
       "|00055d54-0c11-47c...|com.teacapps.barc...|    SKT|    SM-G991N|     14.0|     F| ZZ|\n",
       "|00068c57-7025-487...|com.ibk.android.i...|    SKT|    SM-S908N|     14.0|     M| ZZ|\n",
       "|0006a4df-5d20-47c...|com.nflystudio.In...|    SKT|    SM-A245N|     14.0|     Z| ZZ|\n",
       "|0006c556-d882-4f7...|com.frograms.wpla...|     U+|    LM-V500N|     12.0|     Z| ZZ|\n",
       "|0007354b-012f-4f9...|com.instagram.and...|     U+|    LM-V350N|     10.0|     Z| 40|\n",
       "|00075c37-15a5-45f...|com.bitget.exchan...|    ZZZ|    SM-G991N|     14.0|     Z| ZZ|\n",
       "|0007ad3a-13b8-44c...|skplanet.musicmat...|    SKT|    SM-S928N|     14.0|     Z| ZZ|\n",
       "|00080082-26c8-4ca...|com.nhn.android.s...|     U+|    SM-G991N|     14.0|     Z| ZZ|\n",
       "|000805cb-2ad3-404...|kr.or.knfa.nfcs.m...|     KT|    SM-A315N|     10.0|     Z| ZZ|\n",
       "+--------------------+--------------------+-------+------------+---------+------+---+\n",
       "only showing top 20 rows"
      ]
     },
     "metadata": {},
     "output_type": "display_data"
    }
   ],
   "source": [
    "display(df)"
   ]
  },
  {
   "cell_type": "markdown",
   "id": "e2402996-2466-4f4a-ac9a-77ea3471fd36",
   "metadata": {},
   "source": [
    "tab 구분자로 구분된 데이터 안에 nested - comma로 구분된 정보"
   ]
  },
  {
   "cell_type": "code",
   "execution_count": 10,
   "id": "697ebcc4-6ee3-47eb-b18a-b5621e6c6473",
   "metadata": {
    "scrolled": true
   },
   "outputs": [
    {
     "data": {
      "text/plain": [
       "[Row(adid='0000237c-84d5-42cf-9be4-80a4522de0c9', adid_details='com.google.android.youtube:G:2009010100:2024082204:2024083007:0:2084,teamdoppelganger.smarterbus:G:2021063018:2024052017:2024052017:0:0,com.google.android.googlequicksearchbox:G:2009010100:2024081804:1970010109:0:0,com.samsung.android.app.tips:S:2022020601:2023062301:1970010109:0:0,org.adblockplus.adblockplussbrowser:S:2021090619:2023120915:1970010109:0:0,com.nhn.android.nbooks:G:2022111223:2024042503:2024041020:0:0,kr.go.hrd.app:G:2020102008:2023042121:1970010109:0:0,com.kebhana.hanapush:G:2020122120:2024080401:2024082202:0:0,net.daum.android.daum:G:2020042322:2024080401:2024083123:6549:17329,com.seeon.uticket:G:2022041915:2024082204:2024083012:0:184,com.yagins.hiraportal:G:2023091210:2023091210:1970010109:0:0,net.orizinal.subway:G:2020043011:2024081312:2024082917:0:173,skplanet.musicmate:O:2020042214:2021111308:1970010109:0:0,com.microsoft.office.officehubrow:G:2009010100:2024020416:1970010109:0:0,com.sec.android.app.popupcalculator:S:2009010100:2023060902:2024083020:0:84,com.samsung.android.oneconnect:G:2009010100:2024071220:1970010109:0:0,com.lh.apply:G:2023091308:2023091308:1970010109:0:0,com.samsung.android.spay:S:2009010100:2024071923:2024083018:0:281,com.google.android.play.games:G:2020081521:2024071220:1970010109:0:0,com.sampleapp:G:2020061018:2024082204:2024083019:0:1245,com.ahnlab.v3mobileplus:G:2020051110:2024082322:2024030509:0:0,com.kftc.payinfo.android:G:2021011121:2024071300:2024071115:0:0,com.sec.android.gallery3d:S:2009010100:2024012600:2024083006:0:135,com.makingfun.mageandminions:G:2023121617:2024081423:2024083123:21839:56057,com.kakao.page:G:2020042217:2024081312:2024083123:9130:38632,teamDoppelGanger.SmarterSubway:G:2023102417:2023102417:1970010109:0:0,com.nhn.android.ndrive:G:2020042221:2024071401:2024073104:0:0,kr.co.samsungcard.mpocket:G:2020042221:2024081511:2024081022:0:0,com.coupang.mobile.eats:G:2020062110:2024052400:2024042708:0:0,com.microsoft.office.outlook:G:2009010100:2022020610:1970010109:0:0,kr.go.minwon.m:G:2023062011:2024072816:2024081919:0:0,com.samsung.sree:G:2009010100:2024071623:1970010109:0:0,com.kbstar.land:G:2022070823:2022081223:1970010109:0:0,com.ediya.coupon:G:2020050210:2023063000:1970010109:0:0,viva.republica.toss:G:2020122116:2022050511:1970010109:0:0,com.fineapp.yogiyo:G:2023080419:2023082004:1970010109:0:0,com.nhn.android.nmap:G:2020042221:2024081102:2024082718:0:10,team.flow.GTalkEnt:G:2020051322:2024072600:2024083009:0:107,com.nhn.android.search:G:2020042217:2024081511:2024083122:4214:42034,com.sec.android.app.sbrowser:G:2009010100:2024051501:2024082810:0:6,com.dki.spb_android:G:2022041719:2024062302:2024060917:0:0,com.hanaskcard.paycla:G:2023012717:2024080604:2024073010:0:0,com.coupang.mobile:G:2020062110:2024082400:2024083103:3:3,kr.co.captv.pooqV2:G:2020042214:2022011513:1970010109:0:0,com.sktelecom.tauth:G:2020062814:2024072600:2024071021:0:0,kr.co.lottecinema.lcm:G:2022010211:2024071220:2024070112:0:0,com.google.android.gm:G:2009010100:2009010100:1970010109:0:0,com.skt.smartbill:G:2022051012:2024082400:2024031518:0:0,com.google.android.apps.maps:G:2009010100:2024082400:2024082120:0:0,com.discord:G:2020100321:2023072600:1970010109:0:0,com.tf.thinkdroid.viewer:G:2024011208:2024072600:2024082610:0:137,tv.filecity.webhard.filecitystreaming5:G:2020042422:2022052201:2024083006:0:6249,com.hogangnono.hogangnono:G:2022080121:2022080121:1970010109:0:0,com.kakao.taxi:G:2020060323:2024081102:2024073106:0:0,net.daum.android.map:G:2020052617:2022122113:1970010109:0:0,com.kakao.wheel:G:2020092717:2022092123:1970010109:0:0,com.google.android.apps.photos:G:2009010100:2022090213:1970010109:0:0,com.mealant.tabling:G:2021060717:2022100605:1970010109:0:0,com.samsung.android.messaging:S:2009010100:2023110623:2024083120:6:723,kr.or.nhic:G:2021081311:2024030617:2024030617:0:0,com.nhn.android.webtoon:G:2020042221:2024082204:2024082515:0:158,com.google.android.apps.docs:G:2009010100:2023072523:1970010109:0:0,com.samsung.android.voc:G:2009010100:2024071220:1970010109:0:0,co.kr.waldlust.mmthcoffee:G:2023092607:2024012522:1970010109:0:0,com.sec.android.app.voicenote:S:2009010100:2024020416:1970010109:0:0,com.sec.android.app.shealth:S:2009010100:2024080600:1970010109:0:0,com.cjoshppingphone:G:2022081714:2022082601:1970010109:0:0,com.google.android.apps.youtube.music:G:2009010100:2021102721:1970010109:0:0,com.android.chrome:G:2009010100:2023102800:1970010109:0:0,com.ktshow.cs:G:2023082515:2023082515:1970010109:0:0,kr.go.iros:G:2020082314:2022080120:1970010109:0:0,com.microsoft.skydrive:G:2009010100:2021102721:1970010109:0:0,kr.co.burgerkinghybrid:G:2022110609:2023042121:1970010109:0:0,com.mwos2.mcdelivery:G:2022110609:2023092403:1970010109:0:0,com.locnall.KimGiSa:G:2020062716:2024053123:2024052812:0:0,com.mdart.app2:G:2022032412:2024082204:2024083016:0:66,kr.goodchoice.abouthere:G:2020071520:2024071220:2024062513:0:0,com.jobkorea.app:G:2024041718:2024050517:2024041719:0:0,com.ebcard.bustago:G:2020080713:2024021817:1970010109:0:0,com.samsung.android.app.watchmanager:G:2009010100:2024062302:1970010109:0:0,com.starbucks.co:G:2020042222:2023120302:1970010109:0:0,com.grabtaxi.passenger:G:2022122116:2024081312:2024081313:0:0,com.wooribank.smart.npib:G:2020042221:2024031223:2024030510:0:0,com.samsung.android.app.notes:G:2009010100:2024032311:1970010109:0:0,com.mrt.ducati:G:2023121620:2024010401:1970010109:0:0,kr.co.etbs.benecafe:G:2020042519:2024071300:2024082214:0:0,kr.or.kgc.kgcshop:G:2024011914:2024011914:1970010109:0:0,com.kakao.talk:O:2020042214:2024032510:2024083116:27:5497,sam.myanycar.samsungFire:G:2020062215:2022042100:1970010109:0:0,com.wmpoplus.aristacoffee:G:2023082913:2024021302:1970010109:0:0,kr.co.applyhome:G:2022071322:2023091308:1970010109:0:0,kr.co.tmoney.tia:G:2023032407:2023042121:1970010109:0:0,com.skt.tmap.ku:G:2020043009:2024052400:2024050606:0:0,com.sec.android.easyMover:S:2009010100:2024071923:1970010109:0:0,com.koreanair.passenger:G:2021042121:2022092223:1970010109:0:0,com.skt.prod.dialer:G:2009010100:2024071220:2024083112:19:7979,kr.go.nts.android:G:2022011909:2024012522:1970010109:0:0', carrier='SKT', device_model='SM-G986N', device_os='13.0', gender='Z', age='ZZ')]"
      ]
     },
     "execution_count": 10,
     "metadata": {},
     "output_type": "execute_result"
    }
   ],
   "source": [
    "df.limit(1).collect() "
   ]
  },
  {
   "cell_type": "markdown",
   "id": "529e953a-c2e2-42e4-9222-b29047e68631",
   "metadata": {},
   "source": [
    "### 하위 덩어리 분리\n",
    "#### 리스트 타입으로 만들기\n",
    "\"install_market:dt1:dt2:dt3:sec_d:sec_month, install_market:dt1:dt2:dt3:sec_d:sec_month, install_market:dt1:dt2:dt3:sec_d:sec_month\" 이런식으로 되어있는 string comma 기준으로 split해서 리스트 타입 splited 컬럼 생성"
   ]
  },
  {
   "cell_type": "code",
   "execution_count": 13,
   "id": "67d8b276-e6e5-4574-a8c8-0ac1c106890f",
   "metadata": {},
   "outputs": [
    {
     "name": "stdout",
     "output_type": "stream",
     "text": [
      "+--------------------+--------------------+-------+------------+---------+------+---+--------------------+\n",
      "|                adid|        adid_details|carrier|device_model|device_os|gender|age|             splited|\n",
      "+--------------------+--------------------+-------+------------+---------+------+---+--------------------+\n",
      "|0000237c-84d5-42c...|com.google.androi...|    SKT|    SM-G986N|     13.0|     Z| ZZ|[com.google.andro...|\n",
      "|00002a34-4418-430...|com.sec.android.e...|    SKT|    SM-N981N|     13.0|     Z| ZZ|[com.sec.android....|\n",
      "|00018a31-b0f1-4ec...|com.kt.aljjapackp...|     KT|    SM-G991N|     14.0|     Z| 40|[com.kt.aljjapack...|\n",
      "|0001df59-3d34-415...|com.creasmall:G:2...|    SKT|    SM-S906N|     14.0|     Z| ZZ|[com.creasmall:G:...|\n",
      "|0002ca60-d565-442...|mok.android:G:202...|    SKT|    SM-S911N|     14.0|     Z| ZZ|[mok.android:G:20...|\n",
      "|00032f56-a035-476...|com.google.androi...|    ZZZ|    SM-G930S|      8.0|     Z| ZZ|[com.google.andro...|\n",
      "|00034f01-be1c-4da...|com.google.androi...|     KT|    SM-M446K|     14.0|     Z| ZZ|[com.google.andro...|\n",
      "|0003b234-16b6-40d...|com.android.chrom...|     KT|    SM-G960N|     10.0|     Z| ZZ|[com.android.chro...|\n",
      "|00040286-9aaf-417...|com.ahnlab.v3mobi...|    ZZZ|    LM-G900N|     11.0|     Z| ZZ|[com.ahnlab.v3mob...|\n",
      "|0004489b-a47d-455...|com.sktelecom.vco...|    SKT|    SM-S906N|     14.0|     Z| 30|[com.sktelecom.vc...|\n",
      "|0004adff-de41-453...|com.samsung.andro...|     KT|    SM-S908N|     14.0|     M| 50|[com.samsung.andr...|\n",
      "|00055d54-0c11-47c...|com.teacapps.barc...|    SKT|    SM-G991N|     14.0|     F| ZZ|[com.teacapps.bar...|\n",
      "|00068c57-7025-487...|com.ibk.android.i...|    SKT|    SM-S908N|     14.0|     M| ZZ|[com.ibk.android....|\n",
      "|0006a4df-5d20-47c...|com.nflystudio.In...|    SKT|    SM-A245N|     14.0|     Z| ZZ|[com.nflystudio.I...|\n",
      "|0006c556-d882-4f7...|com.frograms.wpla...|     U+|    LM-V500N|     12.0|     Z| ZZ|[com.frograms.wpl...|\n",
      "|0007354b-012f-4f9...|com.instagram.and...|     U+|    LM-V350N|     10.0|     Z| 40|[com.instagram.an...|\n",
      "|00075c37-15a5-45f...|com.bitget.exchan...|    ZZZ|    SM-G991N|     14.0|     Z| ZZ|[com.bitget.excha...|\n",
      "|0007ad3a-13b8-44c...|skplanet.musicmat...|    SKT|    SM-S928N|     14.0|     Z| ZZ|[skplanet.musicma...|\n",
      "|00080082-26c8-4ca...|com.nhn.android.s...|     U+|    SM-G991N|     14.0|     Z| ZZ|[com.nhn.android....|\n",
      "|000805cb-2ad3-404...|kr.or.knfa.nfcs.m...|     KT|    SM-A315N|     10.0|     Z| ZZ|[kr.or.knfa.nfcs....|\n",
      "+--------------------+--------------------+-------+------------+---------+------+---+--------------------+\n",
      "only showing top 20 rows\n",
      "\n"
     ]
    },
    {
     "data": {
      "text/plain": [
       "None"
      ]
     },
     "metadata": {},
     "output_type": "display_data"
    }
   ],
   "source": [
    "df = df.withColumn('splited', F.split(df[\"adid_details\"], \",\"))\n",
    "display(df.show())"
   ]
  },
  {
   "cell_type": "code",
   "execution_count": 18,
   "id": "81d645c7-a890-46c5-a0dc-b29975931f45",
   "metadata": {
    "scrolled": true
   },
   "outputs": [
    {
     "data": {
      "text/plain": [
       "[Row(splited=['com.google.android.youtube:G:2009010100:2024082204:2024083007:0:2084', 'teamdoppelganger.smarterbus:G:2021063018:2024052017:2024052017:0:0', 'com.google.android.googlequicksearchbox:G:2009010100:2024081804:1970010109:0:0', 'com.samsung.android.app.tips:S:2022020601:2023062301:1970010109:0:0', 'org.adblockplus.adblockplussbrowser:S:2021090619:2023120915:1970010109:0:0', 'com.nhn.android.nbooks:G:2022111223:2024042503:2024041020:0:0', 'kr.go.hrd.app:G:2020102008:2023042121:1970010109:0:0', 'com.kebhana.hanapush:G:2020122120:2024080401:2024082202:0:0', 'net.daum.android.daum:G:2020042322:2024080401:2024083123:6549:17329', 'com.seeon.uticket:G:2022041915:2024082204:2024083012:0:184', 'com.yagins.hiraportal:G:2023091210:2023091210:1970010109:0:0', 'net.orizinal.subway:G:2020043011:2024081312:2024082917:0:173', 'skplanet.musicmate:O:2020042214:2021111308:1970010109:0:0', 'com.microsoft.office.officehubrow:G:2009010100:2024020416:1970010109:0:0', 'com.sec.android.app.popupcalculator:S:2009010100:2023060902:2024083020:0:84', 'com.samsung.android.oneconnect:G:2009010100:2024071220:1970010109:0:0', 'com.lh.apply:G:2023091308:2023091308:1970010109:0:0', 'com.samsung.android.spay:S:2009010100:2024071923:2024083018:0:281', 'com.google.android.play.games:G:2020081521:2024071220:1970010109:0:0', 'com.sampleapp:G:2020061018:2024082204:2024083019:0:1245', 'com.ahnlab.v3mobileplus:G:2020051110:2024082322:2024030509:0:0', 'com.kftc.payinfo.android:G:2021011121:2024071300:2024071115:0:0', 'com.sec.android.gallery3d:S:2009010100:2024012600:2024083006:0:135', 'com.makingfun.mageandminions:G:2023121617:2024081423:2024083123:21839:56057', 'com.kakao.page:G:2020042217:2024081312:2024083123:9130:38632', 'teamDoppelGanger.SmarterSubway:G:2023102417:2023102417:1970010109:0:0', 'com.nhn.android.ndrive:G:2020042221:2024071401:2024073104:0:0', 'kr.co.samsungcard.mpocket:G:2020042221:2024081511:2024081022:0:0', 'com.coupang.mobile.eats:G:2020062110:2024052400:2024042708:0:0', 'com.microsoft.office.outlook:G:2009010100:2022020610:1970010109:0:0', 'kr.go.minwon.m:G:2023062011:2024072816:2024081919:0:0', 'com.samsung.sree:G:2009010100:2024071623:1970010109:0:0', 'com.kbstar.land:G:2022070823:2022081223:1970010109:0:0', 'com.ediya.coupon:G:2020050210:2023063000:1970010109:0:0', 'viva.republica.toss:G:2020122116:2022050511:1970010109:0:0', 'com.fineapp.yogiyo:G:2023080419:2023082004:1970010109:0:0', 'com.nhn.android.nmap:G:2020042221:2024081102:2024082718:0:10', 'team.flow.GTalkEnt:G:2020051322:2024072600:2024083009:0:107', 'com.nhn.android.search:G:2020042217:2024081511:2024083122:4214:42034', 'com.sec.android.app.sbrowser:G:2009010100:2024051501:2024082810:0:6', 'com.dki.spb_android:G:2022041719:2024062302:2024060917:0:0', 'com.hanaskcard.paycla:G:2023012717:2024080604:2024073010:0:0', 'com.coupang.mobile:G:2020062110:2024082400:2024083103:3:3', 'kr.co.captv.pooqV2:G:2020042214:2022011513:1970010109:0:0', 'com.sktelecom.tauth:G:2020062814:2024072600:2024071021:0:0', 'kr.co.lottecinema.lcm:G:2022010211:2024071220:2024070112:0:0', 'com.google.android.gm:G:2009010100:2009010100:1970010109:0:0', 'com.skt.smartbill:G:2022051012:2024082400:2024031518:0:0', 'com.google.android.apps.maps:G:2009010100:2024082400:2024082120:0:0', 'com.discord:G:2020100321:2023072600:1970010109:0:0', 'com.tf.thinkdroid.viewer:G:2024011208:2024072600:2024082610:0:137', 'tv.filecity.webhard.filecitystreaming5:G:2020042422:2022052201:2024083006:0:6249', 'com.hogangnono.hogangnono:G:2022080121:2022080121:1970010109:0:0', 'com.kakao.taxi:G:2020060323:2024081102:2024073106:0:0', 'net.daum.android.map:G:2020052617:2022122113:1970010109:0:0', 'com.kakao.wheel:G:2020092717:2022092123:1970010109:0:0', 'com.google.android.apps.photos:G:2009010100:2022090213:1970010109:0:0', 'com.mealant.tabling:G:2021060717:2022100605:1970010109:0:0', 'com.samsung.android.messaging:S:2009010100:2023110623:2024083120:6:723', 'kr.or.nhic:G:2021081311:2024030617:2024030617:0:0', 'com.nhn.android.webtoon:G:2020042221:2024082204:2024082515:0:158', 'com.google.android.apps.docs:G:2009010100:2023072523:1970010109:0:0', 'com.samsung.android.voc:G:2009010100:2024071220:1970010109:0:0', 'co.kr.waldlust.mmthcoffee:G:2023092607:2024012522:1970010109:0:0', 'com.sec.android.app.voicenote:S:2009010100:2024020416:1970010109:0:0', 'com.sec.android.app.shealth:S:2009010100:2024080600:1970010109:0:0', 'com.cjoshppingphone:G:2022081714:2022082601:1970010109:0:0', 'com.google.android.apps.youtube.music:G:2009010100:2021102721:1970010109:0:0', 'com.android.chrome:G:2009010100:2023102800:1970010109:0:0', 'com.ktshow.cs:G:2023082515:2023082515:1970010109:0:0', 'kr.go.iros:G:2020082314:2022080120:1970010109:0:0', 'com.microsoft.skydrive:G:2009010100:2021102721:1970010109:0:0', 'kr.co.burgerkinghybrid:G:2022110609:2023042121:1970010109:0:0', 'com.mwos2.mcdelivery:G:2022110609:2023092403:1970010109:0:0', 'com.locnall.KimGiSa:G:2020062716:2024053123:2024052812:0:0', 'com.mdart.app2:G:2022032412:2024082204:2024083016:0:66', 'kr.goodchoice.abouthere:G:2020071520:2024071220:2024062513:0:0', 'com.jobkorea.app:G:2024041718:2024050517:2024041719:0:0', 'com.ebcard.bustago:G:2020080713:2024021817:1970010109:0:0', 'com.samsung.android.app.watchmanager:G:2009010100:2024062302:1970010109:0:0', 'com.starbucks.co:G:2020042222:2023120302:1970010109:0:0', 'com.grabtaxi.passenger:G:2022122116:2024081312:2024081313:0:0', 'com.wooribank.smart.npib:G:2020042221:2024031223:2024030510:0:0', 'com.samsung.android.app.notes:G:2009010100:2024032311:1970010109:0:0', 'com.mrt.ducati:G:2023121620:2024010401:1970010109:0:0', 'kr.co.etbs.benecafe:G:2020042519:2024071300:2024082214:0:0', 'kr.or.kgc.kgcshop:G:2024011914:2024011914:1970010109:0:0', 'com.kakao.talk:O:2020042214:2024032510:2024083116:27:5497', 'sam.myanycar.samsungFire:G:2020062215:2022042100:1970010109:0:0', 'com.wmpoplus.aristacoffee:G:2023082913:2024021302:1970010109:0:0', 'kr.co.applyhome:G:2022071322:2023091308:1970010109:0:0', 'kr.co.tmoney.tia:G:2023032407:2023042121:1970010109:0:0', 'com.skt.tmap.ku:G:2020043009:2024052400:2024050606:0:0', 'com.sec.android.easyMover:S:2009010100:2024071923:1970010109:0:0', 'com.koreanair.passenger:G:2021042121:2022092223:1970010109:0:0', 'com.skt.prod.dialer:G:2009010100:2024071220:2024083112:19:7979', 'kr.go.nts.android:G:2022011909:2024012522:1970010109:0:0'])]"
      ]
     },
     "execution_count": 18,
     "metadata": {},
     "output_type": "execute_result"
    }
   ],
   "source": [
    "df.select(F.col(\"splited\")).limit(1).collect()"
   ]
  },
  {
   "cell_type": "markdown",
   "id": "45198808-0c36-404a-9439-0ea8e5a0f2d9",
   "metadata": {},
   "source": [
    "#### adid 키로 주고 리스트 타입 컬럼 각 레코드로 explode"
   ]
  },
  {
   "cell_type": "code",
   "execution_count": 27,
   "id": "aaead04b-c0d7-424d-8600-49d948c741a7",
   "metadata": {},
   "outputs": [
    {
     "name": "stdout",
     "output_type": "stream",
     "text": [
      "+--------------------+--------------------+\n",
      "|       ad_id_details|                adid|\n",
      "+--------------------+--------------------+\n",
      "|com.google.androi...|0000237c-84d5-42c...|\n",
      "|teamdoppelganger....|0000237c-84d5-42c...|\n",
      "|com.google.androi...|0000237c-84d5-42c...|\n",
      "|com.samsung.andro...|0000237c-84d5-42c...|\n",
      "|org.adblockplus.a...|0000237c-84d5-42c...|\n",
      "|com.nhn.android.n...|0000237c-84d5-42c...|\n",
      "|kr.go.hrd.app:G:2...|0000237c-84d5-42c...|\n",
      "|com.kebhana.hanap...|0000237c-84d5-42c...|\n",
      "|net.daum.android....|0000237c-84d5-42c...|\n",
      "|com.seeon.uticket...|0000237c-84d5-42c...|\n",
      "|com.yagins.hirapo...|0000237c-84d5-42c...|\n",
      "|net.orizinal.subw...|0000237c-84d5-42c...|\n",
      "|skplanet.musicmat...|0000237c-84d5-42c...|\n",
      "|com.microsoft.off...|0000237c-84d5-42c...|\n",
      "|com.sec.android.a...|0000237c-84d5-42c...|\n",
      "|com.samsung.andro...|0000237c-84d5-42c...|\n",
      "|com.lh.apply:G:20...|0000237c-84d5-42c...|\n",
      "|com.samsung.andro...|0000237c-84d5-42c...|\n",
      "|com.google.androi...|0000237c-84d5-42c...|\n",
      "|com.sampleapp:G:2...|0000237c-84d5-42c...|\n",
      "+--------------------+--------------------+\n",
      "only showing top 20 rows\n",
      "\n"
     ]
    }
   ],
   "source": [
    "exploded_df = df.select(F.explode(df[\"splited\"]).alias('ad_id_details'), df['adid'])\n",
    "exploded_df.show()"
   ]
  },
  {
   "cell_type": "code",
   "execution_count": 28,
   "id": "bc603701-7367-4ad8-918c-ead754b403dd",
   "metadata": {},
   "outputs": [
    {
     "data": {
      "text/plain": [
       "[Row(ad_id_details='com.google.android.youtube:G:2009010100:2024082204:2024083007:0:2084', adid='0000237c-84d5-42cf-9be4-80a4522de0c9')]"
      ]
     },
     "execution_count": 28,
     "metadata": {},
     "output_type": "execute_result"
    }
   ],
   "source": [
    "exploded_df.limit(1).collect()"
   ]
  },
  {
   "cell_type": "code",
   "execution_count": 31,
   "id": "3055d288-1408-48e4-873f-ebde0228609d",
   "metadata": {
    "scrolled": true
   },
   "outputs": [
    {
     "data": {
      "text/plain": [
       "[Row(splited=['com.google.android.youtube', 'G', '2009010100', '2024082204', '2024083007', '0', '2084']),\n",
       " Row(splited=['teamdoppelganger.smarterbus', 'G', '2021063018', '2024052017', '2024052017', '0', '0']),\n",
       " Row(splited=['com.google.android.googlequicksearchbox', 'G', '2009010100', '2024081804', '1970010109', '0', '0']),\n",
       " Row(splited=['com.samsung.android.app.tips', 'S', '2022020601', '2023062301', '1970010109', '0', '0']),\n",
       " Row(splited=['org.adblockplus.adblockplussbrowser', 'S', '2021090619', '2023120915', '1970010109', '0', '0']),\n",
       " Row(splited=['com.nhn.android.nbooks', 'G', '2022111223', '2024042503', '2024041020', '0', '0']),\n",
       " Row(splited=['kr.go.hrd.app', 'G', '2020102008', '2023042121', '1970010109', '0', '0']),\n",
       " Row(splited=['com.kebhana.hanapush', 'G', '2020122120', '2024080401', '2024082202', '0', '0']),\n",
       " Row(splited=['net.daum.android.daum', 'G', '2020042322', '2024080401', '2024083123', '6549', '17329']),\n",
       " Row(splited=['com.seeon.uticket', 'G', '2022041915', '2024082204', '2024083012', '0', '184']),\n",
       " Row(splited=['com.yagins.hiraportal', 'G', '2023091210', '2023091210', '1970010109', '0', '0']),\n",
       " Row(splited=['net.orizinal.subway', 'G', '2020043011', '2024081312', '2024082917', '0', '173']),\n",
       " Row(splited=['skplanet.musicmate', 'O', '2020042214', '2021111308', '1970010109', '0', '0']),\n",
       " Row(splited=['com.microsoft.office.officehubrow', 'G', '2009010100', '2024020416', '1970010109', '0', '0']),\n",
       " Row(splited=['com.sec.android.app.popupcalculator', 'S', '2009010100', '2023060902', '2024083020', '0', '84']),\n",
       " Row(splited=['com.samsung.android.oneconnect', 'G', '2009010100', '2024071220', '1970010109', '0', '0']),\n",
       " Row(splited=['com.lh.apply', 'G', '2023091308', '2023091308', '1970010109', '0', '0']),\n",
       " Row(splited=['com.samsung.android.spay', 'S', '2009010100', '2024071923', '2024083018', '0', '281']),\n",
       " Row(splited=['com.google.android.play.games', 'G', '2020081521', '2024071220', '1970010109', '0', '0']),\n",
       " Row(splited=['com.sampleapp', 'G', '2020061018', '2024082204', '2024083019', '0', '1245']),\n",
       " Row(splited=['com.ahnlab.v3mobileplus', 'G', '2020051110', '2024082322', '2024030509', '0', '0']),\n",
       " Row(splited=['com.kftc.payinfo.android', 'G', '2021011121', '2024071300', '2024071115', '0', '0']),\n",
       " Row(splited=['com.sec.android.gallery3d', 'S', '2009010100', '2024012600', '2024083006', '0', '135']),\n",
       " Row(splited=['com.makingfun.mageandminions', 'G', '2023121617', '2024081423', '2024083123', '21839', '56057']),\n",
       " Row(splited=['com.kakao.page', 'G', '2020042217', '2024081312', '2024083123', '9130', '38632']),\n",
       " Row(splited=['teamDoppelGanger.SmarterSubway', 'G', '2023102417', '2023102417', '1970010109', '0', '0']),\n",
       " Row(splited=['com.nhn.android.ndrive', 'G', '2020042221', '2024071401', '2024073104', '0', '0']),\n",
       " Row(splited=['kr.co.samsungcard.mpocket', 'G', '2020042221', '2024081511', '2024081022', '0', '0']),\n",
       " Row(splited=['com.coupang.mobile.eats', 'G', '2020062110', '2024052400', '2024042708', '0', '0']),\n",
       " Row(splited=['com.microsoft.office.outlook', 'G', '2009010100', '2022020610', '1970010109', '0', '0'])]"
      ]
     },
     "execution_count": 31,
     "metadata": {},
     "output_type": "execute_result"
    }
   ],
   "source": [
    "exploded_df = exploded_df.withColumn('splited', F.split(exploded_df[\"ad_id_details\"], \":\"))\n",
    "exploded_df.limit(30).select('splited').collect()"
   ]
  },
  {
   "cell_type": "code",
   "execution_count": 38,
   "id": "c24e9acd-79f7-49dd-923d-61bf20851090",
   "metadata": {},
   "outputs": [
    {
     "name": "stdout",
     "output_type": "stream",
     "text": [
      "+--------------------+--------------------+--------------+----------------+--------------+-----------+-------------+--------------+\n",
      "|                adid|        package_name|install_market|first_install_dt|last_update_dt|last_use_dt|daily_use_sec|weekly_use_sec|\n",
      "+--------------------+--------------------+--------------+----------------+--------------+-----------+-------------+--------------+\n",
      "|0000237c-84d5-42c...|com.google.androi...|             G|      2009010100|    2024082204| 2024083007|            0|          2084|\n",
      "|0000237c-84d5-42c...|teamdoppelganger....|             G|      2021063018|    2024052017| 2024052017|            0|             0|\n",
      "|0000237c-84d5-42c...|com.google.androi...|             G|      2009010100|    2024081804| 1970010109|            0|             0|\n",
      "|0000237c-84d5-42c...|com.samsung.andro...|             S|      2022020601|    2023062301| 1970010109|            0|             0|\n",
      "|0000237c-84d5-42c...|org.adblockplus.a...|             S|      2021090619|    2023120915| 1970010109|            0|             0|\n",
      "|0000237c-84d5-42c...|com.nhn.android.n...|             G|      2022111223|    2024042503| 2024041020|            0|             0|\n",
      "|0000237c-84d5-42c...|       kr.go.hrd.app|             G|      2020102008|    2023042121| 1970010109|            0|             0|\n",
      "|0000237c-84d5-42c...|com.kebhana.hanapush|             G|      2020122120|    2024080401| 2024082202|            0|             0|\n",
      "|0000237c-84d5-42c...|net.daum.android....|             G|      2020042322|    2024080401| 2024083123|         6549|         17329|\n",
      "|0000237c-84d5-42c...|   com.seeon.uticket|             G|      2022041915|    2024082204| 2024083012|            0|           184|\n",
      "|0000237c-84d5-42c...|com.yagins.hirapo...|             G|      2023091210|    2023091210| 1970010109|            0|             0|\n",
      "|0000237c-84d5-42c...| net.orizinal.subway|             G|      2020043011|    2024081312| 2024082917|            0|           173|\n",
      "|0000237c-84d5-42c...|  skplanet.musicmate|             O|      2020042214|    2021111308| 1970010109|            0|             0|\n",
      "|0000237c-84d5-42c...|com.microsoft.off...|             G|      2009010100|    2024020416| 1970010109|            0|             0|\n",
      "|0000237c-84d5-42c...|com.sec.android.a...|             S|      2009010100|    2023060902| 2024083020|            0|            84|\n",
      "|0000237c-84d5-42c...|com.samsung.andro...|             G|      2009010100|    2024071220| 1970010109|            0|             0|\n",
      "|0000237c-84d5-42c...|        com.lh.apply|             G|      2023091308|    2023091308| 1970010109|            0|             0|\n",
      "|0000237c-84d5-42c...|com.samsung.andro...|             S|      2009010100|    2024071923| 2024083018|            0|           281|\n",
      "|0000237c-84d5-42c...|com.google.androi...|             G|      2020081521|    2024071220| 1970010109|            0|             0|\n",
      "|0000237c-84d5-42c...|       com.sampleapp|             G|      2020061018|    2024082204| 2024083019|            0|          1245|\n",
      "+--------------------+--------------------+--------------+----------------+--------------+-----------+-------------+--------------+\n",
      "only showing top 20 rows\n",
      "\n"
     ]
    }
   ],
   "source": [
    "exploded_df = (\n",
    "    exploded_df.withColumn(\"package_name\", F.col(\"splited\").getItem(0))\n",
    "    .withColumn(\"install_market\", F.col(\"splited\").getItem(1))\n",
    "    .withColumn(\"first_install_dt\", F.col(\"splited\").getItem(2))\n",
    "    .withColumn(\"last_update_dt\", F.col(\"splited\").getItem(3))\n",
    "    .withColumn(\"last_use_dt\", F.col(\"splited\").getItem(4))\n",
    "    .withColumn(\"daily_use_sec\", F.col(\"splited\").getItem(5))\n",
    "    .withColumn(\"weekly_use_sec\", F.col(\"splited\").getItem(6))\n",
    ")\n",
    "exploded_df = exploded_df.drop(\"splited\").drop(\"ad_id_details\")\n",
    "exploded_df.show()"
   ]
  },
  {
   "cell_type": "code",
   "execution_count": null,
   "id": "2ceb95b9-ea91-4457-a334-77e2f9a99c71",
   "metadata": {},
   "outputs": [],
   "source": [
    "schema_with_comma = StructType(\n",
    "    [        \n",
    "        StructField(\"package_name\", StringType(), True),\n",
    "        StructField(\"install_market\", StringType(), True),\n",
    "        StructField(\"first_install_dt\", StringType(), True),\n",
    "        StructField(\"last_update_dt\", StringType(), True),\n",
    "        StructField(\"last_use_dt\", StringType(), True),\n",
    "        StructField(\"daily_use_sec\", StringType(), True),\n",
    "        StructField(\"weekly_use_sec\", StringType(), True),]\n",
    ")"
   ]
  },
  {
   "cell_type": "code",
   "execution_count": null,
   "id": "033c880d-c362-4f12-824a-8db36c45fb5a",
   "metadata": {},
   "outputs": [],
   "source": []
  },
  {
   "cell_type": "code",
   "execution_count": null,
   "id": "a22ac491-1cfc-469e-ac31-1cdc33f8eddd",
   "metadata": {},
   "outputs": [],
   "source": [
    "schema_with_colon = StructType(\n",
    "    []\n",
    ")"
   ]
  },
  {
   "cell_type": "code",
   "execution_count": 16,
   "id": "ef4e54f9-0f47-48c1-928f-e6ff9a9f144c",
   "metadata": {
    "scrolled": true
   },
   "outputs": [],
   "source": [
    "        # .option(\"delimiter\", \":\")\n",
    "df = (\n",
    "    spark.read\n",
    "        .option(\"inferSchema\", \"true\")\n",
    "        .option(\"multiLine\", \"true\")\n",
    "        .option(\"header\", \"false\")\n",
    "        .option(\"encoding\", \"utf-8\")\n",
    "        .csv(data_path, schema=schema)\n",
    ")"
   ]
  },
  {
   "cell_type": "code",
   "execution_count": 20,
   "id": "7803cd2b-ab7b-4e23-9334-e139fe0bafc7",
   "metadata": {
    "scrolled": true
   },
   "outputs": [
    {
     "name": "stdout",
     "output_type": "stream",
     "text": [
      "root\n",
      " |-- ADID: string (nullable = true)\n",
      " |-- package_name: string (nullable = true)\n",
      " |-- AppID: string (nullable = true)\n",
      " |-- installed_market: string (nullable = true)\n",
      " |-- initial_installed_dt: string (nullable = true)\n",
      " |-- last_update_dt: string (nullable = true)\n",
      " |-- daily_usage_time: string (nullable = true)\n",
      " |-- weekly_usage_time: string (nullable = true)\n",
      " |-- user_age_interval: string (nullable = true)\n",
      " |-- user_sex: string (nullable = true)\n",
      " |-- Tel_cop: string (nullable = true)\n",
      " |-- device_model: string (nullable = true)\n",
      " |-- device_os: string (nullable = true)\n",
      "\n"
     ]
    }
   ],
   "source": [
    "df.printSchema()"
   ]
  },
  {
   "cell_type": "code",
   "execution_count": 10,
   "id": "5188ea72-2496-4811-85f6-7cb0457d9602",
   "metadata": {},
   "outputs": [],
   "source": [
    "from IPython.display import display, display_pretty, clear_output, JSON\n",
    "\n",
    "spark.conf.set(\"spark.sql.repl.eagerEval.enabled\", True) # display enabled"
   ]
  },
  {
   "cell_type": "code",
   "execution_count": 17,
   "id": "d964b965-279d-4fc7-802e-a9cbd5a76ffe",
   "metadata": {
    "scrolled": true
   },
   "outputs": [
    {
     "data": {
      "text/html": [
       "<table border='1'>\n",
       "<tr><th>ADID</th><th>package_name</th><th>AppID</th><th>installed_market</th><th>initial_installed_dt</th><th>last_update_dt</th><th>daily_usage_time</th><th>weekly_usage_time</th><th>user_age_interval</th><th>user_sex</th><th>Tel_cop</th><th>device_model</th><th>device_os</th></tr>\n",
       "<tr><td>0000237c-84d5-42c...</td><td>teamdoppelganger....</td><td>com.google.androi...</td><td>com.samsung.andro...</td><td>org.adblockplus.a...</td><td>com.nhn.android.n...</td><td>kr.go.hrd.app:G:2...</td><td>com.kebhana.hanap...</td><td>net.daum.android....</td><td>com.seeon.uticket...</td><td>com.yagins.hirapo...</td><td>net.orizinal.subw...</td><td>skplanet.musicmat...</td></tr>\n",
       "<tr><td>00002a34-4418-430...</td><td>kr.co.samsungcard...</td><td>com.sec.android.a...</td><td>nh.smart.banking:...</td><td>com.netflix.media...</td><td>com.roadplus.andr...</td><td>com.yodo1.crossyr...</td><td>com.sec.penup:S:2...</td><td>com.cabsoft.oksav...</td><td>com.shcard.smartp...</td><td>com.sec.android.g...</td><td>kr.co.welcomebank...</td><td>com.kbcard.cxh.ap...</td></tr>\n",
       "<tr><td>00018a31-b0f1-4ec...</td><td>com.wisetoto:G:20...</td><td>com.sec.android.a...</td><td>kt.navi:G:2022030...</td><td>com.disney.disney...</td><td>com.shcard.smartp...</td><td>com.google.androi...</td><td>com.google.androi...</td><td>com.kbcard.cxh.ap...</td><td>com.mtelo.ktAPP:E...</td><td>com.ktcs.whowho:G...</td><td>com.todoist:G:202...</td><td>com.kt.olleh.smar...</td></tr>\n",
       "<tr><td>0001df59-3d34-415...</td><td>kr.safemyinfo:G:2...</td><td>com.hcom.android:...</td><td>com.samsung.andro...</td><td>com.fasterpay.app...</td><td>com.samsung.andro...</td><td>com.skplanet.tmap...</td><td>com.mobiletoong.t...</td><td>com.sinyee.babybu...</td><td>com.brightchamps....</td><td>com.google.androi...</td><td>com.samsung.andro...</td><td>com.sktelecom.tgu...</td></tr>\n",
       "<tr><td>0002ca60-d565-442...</td><td>kr.co.kpcard.palr...</td><td>com.samsung.andro...</td><td>net.daum.android....</td><td>com.croquis.zigza...</td><td>com.miraeasset.tr...</td><td>kr.or.kotsa.watc:...</td><td>com.marchlab.haem...</td><td>com.atlassian.and...</td><td>com.samsung.andro...</td><td>com.byappsc.ggsin...</td><td>com.mdd_rn:G:2023...</td><td>com.nhnent.payapp...</td></tr>\n",
       "<tr><td>00032f56-a035-476...</td><td>com.sec.android.g...</td><td>com.betafish.adbl...</td><td>com.google.ar.len...</td><td>com.google.androi...</td><td>kr.co.lylstudio.h...</td><td>com.pinkcore.bb.e...</td><td>com.google.androi...</td><td>com.google.androi...</td><td>com.google.androi...</td><td>com.skt.prod.dial...</td><td>com.kakao.page:G:...</td><td>com.adamrocker.an...</td></tr>\n",
       "<tr><td>00034f01-be1c-4da...</td><td>com.google.androi...</td><td>vr.audio.voicerec...</td><td>com.kakao.page:G:...</td><td>com.hyundai.myhyu...</td><td>com.naver.vibe:G:...</td><td>kr.go.minwon.m:G:...</td><td>com.nhn.android.c...</td><td>com.ahnlab.v3mobi...</td><td>com.homeplus.myho...</td><td>com.cultsotry.yan...</td><td>com.microsoft.off...</td><td>com.towneers.www:...</td></tr>\n",
       "<tr><td>0003b234-16b6-40d...</td><td>com.sec.android.a...</td><td>com.mangosoft.uti...</td><td>com.estsoft.alyac...</td><td>com.kt.ydatabox:G...</td><td>com.instagram.and...</td><td>kt.navi:U:2009010...</td><td>com.samsung.andro...</td><td>com.innov.lotteco...</td><td>com.samsung.andro...</td><td>com.kt.bellringol...</td><td>com.kakao.talk:G:...</td><td>com.google.androi...</td></tr>\n",
       "<tr><td>00040286-9aaf-417...</td><td>kr.co.hanamembers...</td><td>com.lge.music:E:2...</td><td>com.lge.aisuite:E...</td><td>lgt.call:O:202001...</td><td>kr.co.kbs.kong:G:...</td><td>com.skt.tmap.ku:G...</td><td>kr.co.nmcs.daejeo...</td><td>com.kakao.talk:G:...</td><td>kr.go.safepeople:...</td><td>com.google.androi...</td><td>com.uplus.onphone...</td><td>com.nhn.android.s...</td></tr>\n",
       "<tr><td>0004489b-a47d-455...</td><td>com.lcacApp:G:202...</td><td>com.facebook.orca...</td><td>com.google.androi...</td><td>com.samsung.sree:...</td><td>com.skt.tmap.ku:O...</td><td>com.skmc.okcashba...</td><td>com.samsung.andro...</td><td>com.epost.insu:G:...</td><td>com.bnids.happypa...</td><td>com.velox.hkmc_tm...</td><td>kr.go.mobileid:G:...</td><td>jp.naver.line.and...</td></tr>\n",
       "<tr><td>0004adff-de41-453...</td><td>com.android.chrom...</td><td>com.longtukorea.l...</td><td>com.samsung.andro...</td><td>com.sampleapp:G:2...</td><td>com.microsoft.off...</td><td>com.tuya.smart:G:...</td><td>viva.republica.to...</td><td>com.samsung.andro...</td><td>com.sec.android.g...</td><td>com.kt.streamgame...</td><td>com.samsung.sree:...</td><td>com.sktelecom.vco...</td></tr>\n",
       "<tr><td>00055d54-0c11-47c...</td><td>com.coupang.mobil...</td><td>gogolook.callgogo...</td><td>com.microsoft.off...</td><td>com.samsung.andro...</td><td>org.telegram.mess...</td><td>com.hpapp:E:20220...</td><td>skplanet.musicmat...</td><td>com.kftc.bankpay....</td><td>net.yesir:E:20220...</td><td>com.skt.treal.jum...</td><td>app.melon.icompas...</td><td>com.bisoft.live.w...</td></tr>\n",
       "<tr><td>00068c57-7025-487...</td><td>Uxpp.UC:G:2022042...</td><td>com.TouchEn.mVacc...</td><td>com.duzoncnt.View...</td><td>net.ib.android.sm...</td><td>com.skt.skaf.OA00...</td><td>com.sec.samsungso...</td><td>bnb.Time_alerts:E...</td><td>com.skplanet.tmap...</td><td>com.skt.tmap.ku:G...</td><td>com.kbcard.cxh.ap...</td><td>com.aia.vitality....</td><td>com.cultsotry.yan...</td></tr>\n",
       "<tr><td>0006a4df-5d20-47c...</td><td>com.android.chrom...</td><td>com.whoosoft.wmsg...</td><td>com.ahnlab.v3mobi...</td><td>com.outfit7.talki...</td><td>com.life360.andro...</td><td>com.kakao.talk:G:...</td><td>com.withwho.gulgr...</td><td>com.nhn.android.n...</td><td>com.sec.android.a...</td><td>com.sec.android.a...</td><td>com.dencreak.dlca...</td><td>pedometer.steptra...</td></tr>\n",
       "<tr><td>0006c556-d882-4f7...</td><td>com.pincrux.insta...</td><td>kr.or.nps.smart:G...</td><td>com.duolingo:G:20...</td><td>com.discord:G:202...</td><td>com.knb.psb:G:202...</td><td>com.coupang.flex....</td><td>com.lguplus.vr5g:...</td><td>com.novelpia.andr...</td><td>com.midassoft.ezm...</td><td>com.pallo.passion...</td><td>us.zoom.videomeet...</td><td>com.goodwearmall....</td></tr>\n",
       "<tr><td>0007354b-012f-4f9...</td><td>jp.ne.ibis.ibispa...</td><td>com.lguplus.block...</td><td>com.hp.android.pr...</td><td>com.estsoft.alyac...</td><td>com.omnitel.andro...</td><td>com.google.androi...</td><td>com.albamon.app:G...</td><td>com.herman.ringto...</td><td>com.jslab.project...</td><td>kr.co.ecglobal.nf...</td><td>com.kbstar.kbbank...</td><td>com.whox2.lguplus...</td></tr>\n",
       "<tr><td>00075c37-15a5-45f...</td><td>com.foblgate.app:...</td><td>com.viewlab.minin...</td><td>com.nhn.android.c...</td><td>com.twoeightvcwal...</td><td>pro.huobi:G:20221...</td><td>com.samsung.sree:...</td><td>com.google.androi...</td><td>us.zoom.videomeet...</td><td>kr.co.wowtv.aicha...</td><td>com.blockchainvau...</td><td>com.translate.all...</td><td>io.astawallet.vii...</td></tr>\n",
       "<tr><td>0007ad3a-13b8-44c...</td><td>com.sktelecom.tde...</td><td>com.weather.free....</td><td>oops.ledscroller:...</td><td>com.samsung.andro...</td><td>com.sec.android.a...</td><td>com.google.androi...</td><td>weather.radar:G:2...</td><td>com.skt.skaf.OA00...</td><td>com.microsoft.sky...</td><td>com.kakao.story:G...</td><td>com.onair.live.tv...</td><td>com.samsung.andro...</td></tr>\n",
       "<tr><td>00080082-26c8-4ca...</td><td>uplus.membership:...</td><td>kr.co.applyhome:G...</td><td>com.lgu:E:2022022...</td><td>nh.smart:E:202202...</td><td>com.microsoft.off...</td><td>com.digitalchemy....</td><td>com.kakao.music:G...</td><td>com.campmobile.sn...</td><td>lg.uplusbox:E:202...</td><td>com.samsung.andro...</td><td>com.nhn.android.b...</td><td>com.eco.bigfont:E...</td></tr>\n",
       "<tr><td>000805cb-2ad3-404...</td><td>viva.republica.to...</td><td>com.sec.android.e...</td><td>com.wooriwm.mugsm...</td><td>com.sec.android.a...</td><td>com.samsung.andro...</td><td>com.google.androi...</td><td>com.sec.android.a...</td><td>com.microsoft.off...</td><td>com.olleh.webtoon...</td><td>com.android.chrom...</td><td>com.lumensoft.tou...</td><td>com.microsoft.off...</td></tr>\n",
       "</table>\n",
       "only showing top 20 rows\n"
      ],
      "text/plain": [
       "+--------------------+--------------------+--------------------+--------------------+--------------------+--------------------+--------------------+--------------------+--------------------+--------------------+--------------------+--------------------+--------------------+\n",
       "|                ADID|        package_name|               AppID|    installed_market|initial_installed_dt|      last_update_dt|    daily_usage_time|   weekly_usage_time|   user_age_interval|            user_sex|             Tel_cop|        device_model|           device_os|\n",
       "+--------------------+--------------------+--------------------+--------------------+--------------------+--------------------+--------------------+--------------------+--------------------+--------------------+--------------------+--------------------+--------------------+\n",
       "|0000237c-84d5-42c...|teamdoppelganger....|com.google.androi...|com.samsung.andro...|org.adblockplus.a...|com.nhn.android.n...|kr.go.hrd.app:G:2...|com.kebhana.hanap...|net.daum.android....|com.seeon.uticket...|com.yagins.hirapo...|net.orizinal.subw...|skplanet.musicmat...|\n",
       "|00002a34-4418-430...|kr.co.samsungcard...|com.sec.android.a...|nh.smart.banking:...|com.netflix.media...|com.roadplus.andr...|com.yodo1.crossyr...|com.sec.penup:S:2...|com.cabsoft.oksav...|com.shcard.smartp...|com.sec.android.g...|kr.co.welcomebank...|com.kbcard.cxh.ap...|\n",
       "|00018a31-b0f1-4ec...|com.wisetoto:G:20...|com.sec.android.a...|kt.navi:G:2022030...|com.disney.disney...|com.shcard.smartp...|com.google.androi...|com.google.androi...|com.kbcard.cxh.ap...|com.mtelo.ktAPP:E...|com.ktcs.whowho:G...|com.todoist:G:202...|com.kt.olleh.smar...|\n",
       "|0001df59-3d34-415...|kr.safemyinfo:G:2...|com.hcom.android:...|com.samsung.andro...|com.fasterpay.app...|com.samsung.andro...|com.skplanet.tmap...|com.mobiletoong.t...|com.sinyee.babybu...|com.brightchamps....|com.google.androi...|com.samsung.andro...|com.sktelecom.tgu...|\n",
       "|0002ca60-d565-442...|kr.co.kpcard.palr...|com.samsung.andro...|net.daum.android....|com.croquis.zigza...|com.miraeasset.tr...|kr.or.kotsa.watc:...|com.marchlab.haem...|com.atlassian.and...|com.samsung.andro...|com.byappsc.ggsin...|com.mdd_rn:G:2023...|com.nhnent.payapp...|\n",
       "|00032f56-a035-476...|com.sec.android.g...|com.betafish.adbl...|com.google.ar.len...|com.google.androi...|kr.co.lylstudio.h...|com.pinkcore.bb.e...|com.google.androi...|com.google.androi...|com.google.androi...|com.skt.prod.dial...|com.kakao.page:G:...|com.adamrocker.an...|\n",
       "|00034f01-be1c-4da...|com.google.androi...|vr.audio.voicerec...|com.kakao.page:G:...|com.hyundai.myhyu...|com.naver.vibe:G:...|kr.go.minwon.m:G:...|com.nhn.android.c...|com.ahnlab.v3mobi...|com.homeplus.myho...|com.cultsotry.yan...|com.microsoft.off...|com.towneers.www:...|\n",
       "|0003b234-16b6-40d...|com.sec.android.a...|com.mangosoft.uti...|com.estsoft.alyac...|com.kt.ydatabox:G...|com.instagram.and...|kt.navi:U:2009010...|com.samsung.andro...|com.innov.lotteco...|com.samsung.andro...|com.kt.bellringol...|com.kakao.talk:G:...|com.google.androi...|\n",
       "|00040286-9aaf-417...|kr.co.hanamembers...|com.lge.music:E:2...|com.lge.aisuite:E...|lgt.call:O:202001...|kr.co.kbs.kong:G:...|com.skt.tmap.ku:G...|kr.co.nmcs.daejeo...|com.kakao.talk:G:...|kr.go.safepeople:...|com.google.androi...|com.uplus.onphone...|com.nhn.android.s...|\n",
       "|0004489b-a47d-455...|com.lcacApp:G:202...|com.facebook.orca...|com.google.androi...|com.samsung.sree:...|com.skt.tmap.ku:O...|com.skmc.okcashba...|com.samsung.andro...|com.epost.insu:G:...|com.bnids.happypa...|com.velox.hkmc_tm...|kr.go.mobileid:G:...|jp.naver.line.and...|\n",
       "|0004adff-de41-453...|com.android.chrom...|com.longtukorea.l...|com.samsung.andro...|com.sampleapp:G:2...|com.microsoft.off...|com.tuya.smart:G:...|viva.republica.to...|com.samsung.andro...|com.sec.android.g...|com.kt.streamgame...|com.samsung.sree:...|com.sktelecom.vco...|\n",
       "|00055d54-0c11-47c...|com.coupang.mobil...|gogolook.callgogo...|com.microsoft.off...|com.samsung.andro...|org.telegram.mess...|com.hpapp:E:20220...|skplanet.musicmat...|com.kftc.bankpay....|net.yesir:E:20220...|com.skt.treal.jum...|app.melon.icompas...|com.bisoft.live.w...|\n",
       "|00068c57-7025-487...|Uxpp.UC:G:2022042...|com.TouchEn.mVacc...|com.duzoncnt.View...|net.ib.android.sm...|com.skt.skaf.OA00...|com.sec.samsungso...|bnb.Time_alerts:E...|com.skplanet.tmap...|com.skt.tmap.ku:G...|com.kbcard.cxh.ap...|com.aia.vitality....|com.cultsotry.yan...|\n",
       "|0006a4df-5d20-47c...|com.android.chrom...|com.whoosoft.wmsg...|com.ahnlab.v3mobi...|com.outfit7.talki...|com.life360.andro...|com.kakao.talk:G:...|com.withwho.gulgr...|com.nhn.android.n...|com.sec.android.a...|com.sec.android.a...|com.dencreak.dlca...|pedometer.steptra...|\n",
       "|0006c556-d882-4f7...|com.pincrux.insta...|kr.or.nps.smart:G...|com.duolingo:G:20...|com.discord:G:202...|com.knb.psb:G:202...|com.coupang.flex....|com.lguplus.vr5g:...|com.novelpia.andr...|com.midassoft.ezm...|com.pallo.passion...|us.zoom.videomeet...|com.goodwearmall....|\n",
       "|0007354b-012f-4f9...|jp.ne.ibis.ibispa...|com.lguplus.block...|com.hp.android.pr...|com.estsoft.alyac...|com.omnitel.andro...|com.google.androi...|com.albamon.app:G...|com.herman.ringto...|com.jslab.project...|kr.co.ecglobal.nf...|com.kbstar.kbbank...|com.whox2.lguplus...|\n",
       "|00075c37-15a5-45f...|com.foblgate.app:...|com.viewlab.minin...|com.nhn.android.c...|com.twoeightvcwal...|pro.huobi:G:20221...|com.samsung.sree:...|com.google.androi...|us.zoom.videomeet...|kr.co.wowtv.aicha...|com.blockchainvau...|com.translate.all...|io.astawallet.vii...|\n",
       "|0007ad3a-13b8-44c...|com.sktelecom.tde...|com.weather.free....|oops.ledscroller:...|com.samsung.andro...|com.sec.android.a...|com.google.androi...|weather.radar:G:2...|com.skt.skaf.OA00...|com.microsoft.sky...|com.kakao.story:G...|com.onair.live.tv...|com.samsung.andro...|\n",
       "|00080082-26c8-4ca...|uplus.membership:...|kr.co.applyhome:G...|com.lgu:E:2022022...|nh.smart:E:202202...|com.microsoft.off...|com.digitalchemy....|com.kakao.music:G...|com.campmobile.sn...|lg.uplusbox:E:202...|com.samsung.andro...|com.nhn.android.b...|com.eco.bigfont:E...|\n",
       "|000805cb-2ad3-404...|viva.republica.to...|com.sec.android.e...|com.wooriwm.mugsm...|com.sec.android.a...|com.samsung.andro...|com.google.androi...|com.sec.android.a...|com.microsoft.off...|com.olleh.webtoon...|com.android.chrom...|com.lumensoft.tou...|com.microsoft.off...|\n",
       "+--------------------+--------------------+--------------------+--------------------+--------------------+--------------------+--------------------+--------------------+--------------------+--------------------+--------------------+--------------------+--------------------+\n",
       "only showing top 20 rows"
      ]
     },
     "metadata": {},
     "output_type": "display_data"
    }
   ],
   "source": [
    "display(df)"
   ]
  },
  {
   "cell_type": "code",
   "execution_count": 15,
   "id": "0d7fedaa-6d9d-401e-946c-9ffc05d52f8a",
   "metadata": {},
   "outputs": [
    {
     "data": {
      "text/html": [
       "<table border='1'>\n",
       "<tr><th>summary</th><th>ADID</th><th>package_name</th><th>AppID</th><th>installed_market</th><th>initial_installed_dt</th><th>last_update_dt</th><th>daily_usage_time</th><th>weekly_usage_time</th><th>user_age_interval</th><th>user_sex</th><th>Tel_cop</th><th>device_model</th><th>device_os</th></tr>\n",
       "<tr><td>count</td><td>114236</td><td>114236</td><td>114236</td><td>114236</td><td>114236</td><td>114236</td><td>114236</td><td>114236</td><td>114236</td><td>114236</td><td>114236</td><td>114236</td><td>114236</td></tr>\n",
       "<tr><td>mean</td><td>NULL</td><td>NULL</td><td>2.019521642758675E9</td><td>2.0231672824757607E9</td><td>1.9816831157954147E9</td><td>67.62855842291397</td><td>NULL</td><td>NULL</td><td>2.0195457518895795E9</td><td>2.023167237609125E9</td><td>1.9817240346434662E9</td><td>65.31716796806612</td><td>NULL</td></tr>\n",
       "<tr><td>stddev</td><td>NULL</td><td>NULL</td><td>5664172.793053418</td><td>2594062.3823616393</td><td>2.2237830516064975E7</td><td>1093.3100264700295</td><td>NULL</td><td>NULL</td><td>5659980.6914026765</td><td>2612477.688017082</td><td>2.2266478696805727E7</td><td>990.9695613633864</td><td>NULL</td></tr>\n",
       "<tr><td>min</td><td>0000237c-84d5-42c...</td><td>E</td><td>1970010109</td><td>1970010109</td><td>1969123116</td><td>-1</td><td>-1,Com.sktelecom....</td><td>E</td><td>1970010109</td><td>1970010109</td><td>1969123116</td><td>-1</td><td>-1,Busan.Subway.f...</td></tr>\n",
       "<tr><td>max</td><td>fffff0ff-9797-45d...</td><td>U</td><td>2024090104</td><td>2024090104</td><td>2025061108</td><td>997</td><td>999,kr.go.minwon.m</td><td>U</td><td>2024090102</td><td>2024090104</td><td>2025071914</td><td>999</td><td>999,com.siso.kpcwucn</td></tr>\n",
       "</table>\n"
      ],
      "text/plain": [
       "+-------+--------------------+------------+-------------------+--------------------+--------------------+------------------+--------------------+-----------------+--------------------+-------------------+--------------------+-----------------+--------------------+\n",
       "|summary|                ADID|package_name|              AppID|    installed_market|initial_installed_dt|    last_update_dt|    daily_usage_time|weekly_usage_time|   user_age_interval|           user_sex|             Tel_cop|     device_model|           device_os|\n",
       "+-------+--------------------+------------+-------------------+--------------------+--------------------+------------------+--------------------+-----------------+--------------------+-------------------+--------------------+-----------------+--------------------+\n",
       "|  count|              114236|      114236|             114236|              114236|              114236|            114236|              114236|           114236|              114236|             114236|              114236|           114236|              114236|\n",
       "|   mean|                NULL|        NULL|2.019521642758675E9|2.0231672824757607E9|1.9816831157954147E9| 67.62855842291397|                NULL|             NULL|2.0195457518895795E9|2.023167237609125E9|1.9817240346434662E9|65.31716796806612|                NULL|\n",
       "| stddev|                NULL|        NULL|  5664172.793053418|  2594062.3823616393|2.2237830516064975E7|1093.3100264700295|                NULL|             NULL|  5659980.6914026765|  2612477.688017082|2.2266478696805727E7|990.9695613633864|                NULL|\n",
       "|    min|0000237c-84d5-42c...|           E|         1970010109|          1970010109|          1969123116|                -1|-1,Com.sktelecom....|                E|          1970010109|         1970010109|          1969123116|               -1|-1,Busan.Subway.f...|\n",
       "|    max|fffff0ff-9797-45d...|           U|         2024090104|          2024090104|          2025061108|               997|  999,kr.go.minwon.m|                U|          2024090102|         2024090104|          2025071914|              999|999,com.siso.kpcwucn|\n",
       "+-------+--------------------+------------+-------------------+--------------------+--------------------+------------------+--------------------+-----------------+--------------------+-------------------+--------------------+-----------------+--------------------+"
      ]
     },
     "metadata": {},
     "output_type": "display_data"
    }
   ],
   "source": [
    "display(df.describe())"
   ]
  },
  {
   "cell_type": "code",
   "execution_count": null,
   "id": "7327cc4f-4cec-479b-8fb5-e7dde42685eb",
   "metadata": {},
   "outputs": [],
   "source": []
  },
  {
   "cell_type": "code",
   "execution_count": null,
   "id": "1e5dddc3-4d94-4637-91a6-f2870ca5b6c7",
   "metadata": {},
   "outputs": [],
   "source": []
  },
  {
   "cell_type": "code",
   "execution_count": null,
   "id": "16a7e10d-aabd-409a-a5f7-6ff195c01ade",
   "metadata": {},
   "outputs": [],
   "source": []
  }
 ],
 "metadata": {
  "kernelspec": {
   "display_name": "Python 3 (ipykernel)",
   "language": "python",
   "name": "python3"
  },
  "language_info": {
   "codemirror_mode": {
    "name": "ipython",
    "version": 3
   },
   "file_extension": ".py",
   "mimetype": "text/x-python",
   "name": "python",
   "nbconvert_exporter": "python",
   "pygments_lexer": "ipython3",
   "version": "3.11.6"
  }
 },
 "nbformat": 4,
 "nbformat_minor": 5
}
